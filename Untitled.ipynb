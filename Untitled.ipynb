{
 "cells": [
  {
   "cell_type": "code",
   "execution_count": 3,
   "metadata": {
    "collapsed": true
   },
   "outputs": [],
   "source": [
    "s1 = \"3[a]2[bc]\" #, return \"aaabcbc\".\n",
    "s2 = \"3[a2[c]]\" # , return \"accaccacc\".\n",
    "s3 = \"2[abc]3[cd]ef\" #, return \"abcabccdcdcdef\""
   ]
  },
  {
   "cell_type": "code",
   "execution_count": null,
   "metadata": {
    "collapsed": false
   },
   "outputs": [],
   "source": [
    "s1"
   ]
  },
  {
   "cell_type": "code",
   "execution_count": null,
   "metadata": {
    "collapsed": false
   },
   "outputs": [],
   "source": [
    "x = s1[0]"
   ]
  },
  {
   "cell_type": "code",
   "execution_count": null,
   "metadata": {
    "collapsed": false
   },
   "outputs": [],
   "source": [
    "x.isalpha()"
   ]
  },
  {
   "cell_type": "code",
   "execution_count": 49,
   "metadata": {
    "collapsed": false
   },
   "outputs": [
    {
     "name": "stdout",
     "output_type": "stream",
     "text": [
      "[3, 2, 1]\n"
     ]
    }
   ],
   "source": [
    "tmp = [3, 2, 1]\n",
    "# tmp.pop()\n",
    "print(tmp)"
   ]
  },
  {
   "cell_type": "code",
   "execution_count": 50,
   "metadata": {
    "collapsed": false
   },
   "outputs": [
    {
     "data": {
      "text/plain": [
       "1"
      ]
     },
     "execution_count": 50,
     "metadata": {},
     "output_type": "execute_result"
    }
   ],
   "source": [
    "tmp[-1]"
   ]
  },
  {
   "cell_type": "code",
   "execution_count": 214,
   "metadata": {
    "collapsed": true
   },
   "outputs": [],
   "source": [
    "string = s1"
   ]
  },
  {
   "cell_type": "code",
   "execution_count": 215,
   "metadata": {
    "collapsed": false
   },
   "outputs": [
    {
     "data": {
      "text/plain": [
       "'3[a]2[bc]'"
      ]
     },
     "execution_count": 215,
     "metadata": {},
     "output_type": "execute_result"
    }
   ],
   "source": [
    "string"
   ]
  },
  {
   "cell_type": "code",
   "execution_count": 245,
   "metadata": {
    "collapsed": true
   },
   "outputs": [],
   "source": [
    "def recsum(n):\n",
    "    out = 1\n",
    "    if n==1:\n",
    "        return 1\n",
    "    else:\n",
    "        out += recsum(n-1)\n",
    "        return out"
   ]
  },
  {
   "cell_type": "code",
   "execution_count": null,
   "metadata": {
    "collapsed": false
   },
   "outputs": [
    {
     "data": {
      "text/plain": [
       "15"
      ]
     },
     "execution_count": 248,
     "metadata": {},
     "output_type": "execute_result"
    }
   ],
   "source": [
    "recsum(15)"
   ]
  },
  {
   "cell_type": "code",
   "execution_count": null,
   "metadata": {
    "collapsed": true
   },
   "outputs": [],
   "source": [
    "def decodeStringRecurs(string):\n",
    "    if string"
   ]
  },
  {
   "cell_type": "code",
   "execution_count": 216,
   "metadata": {
    "collapsed": false
   },
   "outputs": [
    {
     "name": "stdout",
     "output_type": "stream",
     "text": [
      "(0, '3', [], [], '')\n",
      "(1, '[', [], [3], '')\n",
      "(2, 'a', [], [3], 'a')\n",
      "(3, ']', ['a'], [3], 'a')\n",
      "(3, ']', [], [], '')\n",
      "(4, '2', [], [], '')\n",
      "(5, '[', [], [2], '')\n",
      "(6, 'b', [], [2], 'b')\n",
      "(7, 'c', [], [2], 'bc')\n",
      "(8, ']', ['bc'], [2], 'bc')\n",
      "(8, ']', [], [], '')\n",
      "('3[a]2[bc]', 'bcaaabcaaa')\n"
     ]
    }
   ],
   "source": [
    "stringout, stringval = '', ''\n",
    "out, multlist, stringlist = [], [], []\n",
    "for i, s in enumerate(string):\n",
    "    if s==\"[\":\n",
    "        if stringval!= '':\n",
    "            stringlist.append(stringval)\n",
    "        multlist.append(int(string[i-1]))\n",
    "        stringval = ''\n",
    "\n",
    "    if s==']':\n",
    "        if stringval != '':\n",
    "            stringlist.append(stringval)\n",
    "\n",
    "        tmp = \n",
    "        stringout = multlist[-1] * (stringlist[-1] + stringout)\n",
    "#         stringout = stringout  + (multlist[-1] * stringlist[-1])\n",
    "        print(i, s, stringlist, multlist, stringval)\n",
    "        stringval = ''\n",
    "        stringlist.pop(), multlist.pop()\n",
    "\n",
    "    if s.isalpha():\n",
    "        stringval += s\n",
    "\n",
    "    if s.isdigit():\n",
    "        pass\n",
    "\n",
    "    print(i, s, stringlist, multlist, stringval)\n",
    "if stringval!= '':\n",
    "    out.append(stringval)\n",
    "    \n",
    "print(string, stringout)"
   ]
  },
  {
   "cell_type": "code",
   "execution_count": 195,
   "metadata": {
    "collapsed": true
   },
   "outputs": [],
   "source": [
    "def decodeString2(string): \n",
    "    stringout, stringval = '', ''\n",
    "    out, multlist, stringlist = [], [], []\n",
    "    for i, s in enumerate(string):\n",
    "        if s==\"[\":\n",
    "            if stringval!= '':\n",
    "                stringlist.append(stringval)\n",
    "            multlist.append(int(string[i-1]))\n",
    "            stringval = ''\n",
    "\n",
    "        if s==']':\n",
    "            if stringval != '':\n",
    "                stringlist.append(stringval)\n",
    "            stringout = multlist[-1] * (stringlist[-1] + stringout )\n",
    "    #         print(i, s, stringlist, multlist, stringval)\n",
    "            stringval = ''\n",
    "            stringlist.pop(), multlist.pop()\n",
    "\n",
    "        if s.isalpha():\n",
    "            stringval += s\n",
    "\n",
    "        if s.isdigit():\n",
    "            pass\n",
    "\n",
    "    #     print(i, s, stringlist, multlist, stringval)\n",
    "    if stringval!= '':\n",
    "        out.append(stringval)\n",
    "    return stringout"
   ]
  },
  {
   "cell_type": "code",
   "execution_count": 197,
   "metadata": {
    "collapsed": false
   },
   "outputs": [
    {
     "name": "stdout",
     "output_type": "stream",
     "text": [
      "False\n",
      "True\n",
      "False\n"
     ]
    }
   ],
   "source": [
    "print(decodeString2(\"3[a]2[bc]\") == \"aaabcbc\")\n",
    "print(decodeString2(\"3[a2[c]]\")  == \"accaccacc\")\n",
    "print(decodeString2(\"2[abc]3[cd]ef\") == \"abcabccdcdcdef\")"
   ]
  },
  {
   "cell_type": "code",
   "execution_count": 196,
   "metadata": {
    "collapsed": false
   },
   "outputs": [
    {
     "data": {
      "text/plain": [
       "'accaccacc'"
      ]
     },
     "execution_count": 196,
     "metadata": {},
     "output_type": "execute_result"
    }
   ],
   "source": [
    "decodeString2(\"3[a2[c]]\") #  == \"accaccacc\""
   ]
  },
  {
   "cell_type": "code",
   "execution_count": 79,
   "metadata": {
    "collapsed": false
   },
   "outputs": [],
   "source": [
    "def decodeString(string):\n",
    "    stringval = ''\n",
    "    out, multlist, stringlist = [], [], []\n",
    "    for i, s in enumerate(string):\n",
    "        if s==\"[\":\n",
    "            if len(stringlist) > 0:\n",
    "                stringlist.append(stringval)\n",
    "            multlist.append(int(string[i-1]))\n",
    "            stringval = ''\n",
    "\n",
    "        if s==']':\n",
    "            stringlist.append(stringval)\n",
    "            out.append(  multlist[-1] * stringlist[-1])\n",
    "            stringlist.pop(), multlist.pop()\n",
    "        \n",
    "        if s.isalpha():\n",
    "            stringval+= s\n",
    "        if s.isdigit():\n",
    "            pass\n",
    "    if stringval!= '':\n",
    "        out.append(stringval)\n",
    "\n",
    "    return ''.join(out) "
   ]
  },
  {
   "cell_type": "code",
   "execution_count": 164,
   "metadata": {
    "collapsed": false
   },
   "outputs": [
    {
     "name": "stdout",
     "output_type": "stream",
     "text": [
      "False\n",
      "False\n",
      "False\n"
     ]
    }
   ],
   "source": [
    "print(decodeString(\"3[a]2[bc]\") == \"aaabcbc\")\n",
    "print(decodeString(\"3[a2[c]]\")  == \"accaccacc\")\n",
    "print(decodeString(\"2[abc]3[cd]ef\") == \"abcabccdcdcdef\")"
   ]
  },
  {
   "cell_type": "code",
   "execution_count": 74,
   "metadata": {
    "collapsed": false
   },
   "outputs": [
    {
     "data": {
      "text/plain": [
       "False"
      ]
     },
     "execution_count": 74,
     "metadata": {},
     "output_type": "execute_result"
    }
   ],
   "source": []
  },
  {
   "cell_type": "code",
   "execution_count": null,
   "metadata": {
    "collapsed": true
   },
   "outputs": [],
   "source": []
  }
 ],
 "metadata": {
  "kernelspec": {
   "display_name": "Python 2",
   "language": "python",
   "name": "python2"
  },
  "language_info": {
   "codemirror_mode": {
    "name": "ipython",
    "version": 2
   },
   "file_extension": ".py",
   "mimetype": "text/x-python",
   "name": "python",
   "nbconvert_exporter": "python",
   "pygments_lexer": "ipython2",
   "version": "2.7.12"
  }
 },
 "nbformat": 4,
 "nbformat_minor": 0
}
