{
 "cells": [
  {
   "cell_type": "code",
   "execution_count": 1,
   "id": "76b9d7d7-5561-4618-9fbf-1bf1fc9ea471",
   "metadata": {},
   "outputs": [],
   "source": [
    "%%capture\n",
    "\n",
    "pip install solana"
   ]
  },
  {
   "cell_type": "code",
   "execution_count": 2,
   "id": "f4cc8f39-e0aa-4615-a206-663eeff9123b",
   "metadata": {},
   "outputs": [],
   "source": [
    "import os\n",
    "import json\n",
    "import time\n",
    "from solana.keypair import Keypair\n",
    "from solana.publickey import PublicKey\n",
    "from solana.rpc.api import Client\n",
    "from solana.transaction import Transaction\n",
    "from solana.system_program import TransferParams, transfer"
   ]
  },
  {
   "cell_type": "code",
   "execution_count": 3,
   "id": "0f592734-f023-48ab-818e-ef53ede9782b",
   "metadata": {},
   "outputs": [],
   "source": [
    "solana_client = Client(\"https://api.devnet.solana.com\")"
   ]
  },
  {
   "cell_type": "code",
   "execution_count": 4,
   "id": "8b659e98-f515-4d58-8c00-713d9641ce7b",
   "metadata": {},
   "outputs": [],
   "source": [
    "def pp(x):\n",
    "    if type(x) == dict:\n",
    "        print(json.dumps(x, indent=2))\n",
    "    else:\n",
    "        print(json.dumps(json.loads(x), indent=2))"
   ]
  },
  {
   "cell_type": "code",
   "execution_count": 5,
   "id": "8f2270da-49b5-4392-a0d9-a82947301082",
   "metadata": {},
   "outputs": [],
   "source": [
    "def create_account(sender_username):\n",
    "    try:\n",
    "        kp = Keypair.generate()\n",
    "        public_key = str(kp.public_key)\n",
    "        secret_key = kp.secret_key\n",
    "\n",
    "        data = {\n",
    "            'public_key': public_key,\n",
    "            'secret_key': secret_key.decode(\"latin-1\"),\n",
    "        }\n",
    "        if \"solana\" not in os.listdir(\"./\"):\n",
    "            os.mkdir(\"./solana/\")\n",
    "        file_name = './solana/{}.txt'.format(sender_username)\n",
    "        with open(file_name, 'w') as outfile:\n",
    "            json.dump(data, outfile)\n",
    "\n",
    "        return public_key\n",
    "    except Exception as e:\n",
    "        print('error:', e)\n",
    "        return None"
   ]
  },
  {
   "cell_type": "code",
   "execution_count": 6,
   "id": "65d305e5-9273-4549-9c63-712e91bf1b46",
   "metadata": {},
   "outputs": [],
   "source": [
    "uname = 'testuser'"
   ]
  },
  {
   "cell_type": "code",
   "execution_count": 7,
   "id": "83b0889c-5d82-40f6-9ed5-35412e5b0d97",
   "metadata": {},
   "outputs": [
    {
     "data": {
      "text/plain": [
       "'CAPX9Yz7qiKc6Mka92fT3tV3wF5tNKHCeThGCYJ8FHTd'"
      ]
     },
     "execution_count": 7,
     "metadata": {},
     "output_type": "execute_result"
    }
   ],
   "source": [
    "create_account(uname)"
   ]
  },
  {
   "cell_type": "code",
   "execution_count": 8,
   "id": "dd5d2bed-0096-4173-becc-db909f442c09",
   "metadata": {},
   "outputs": [],
   "source": [
    "def load_wallet(sender_username):\n",
    "    try:\n",
    "        file_name = './solana/{}.txt'.format(sender_username)\n",
    "        with open(file_name) as json_file:\n",
    "            account = json.load(json_file)\n",
    "            account['secret_key'] = account['secret_key'].encode(\"latin-1\")\n",
    "            return account\n",
    "\n",
    "    except Exception as e:\n",
    "        print(e)\n",
    "        return None  "
   ]
  },
  {
   "cell_type": "code",
   "execution_count": 9,
   "id": "b21431e0-879c-4f33-8675-9d66c6534b81",
   "metadata": {},
   "outputs": [
    {
     "data": {
      "text/plain": [
       "{'public_key': 'CAPX9Yz7qiKc6Mka92fT3tV3wF5tNKHCeThGCYJ8FHTd',\n",
       " 'secret_key': b'l\\xafaD\\xeb\\xb9\\xab%p\\xd1\\xeaOc\\xaeo\\x08\\x8f\\xa6Q\\x88$^\\xe6\\x90\\x00A\\xfb\\xe8u\\x85\\xe1\\xde\\xa5\\xd8?%\\xe2\\xfd\\xe7\\xa3\\xb7\\xe8\\xf4\\xf6\\xc1\\xa8\\xb9\\xd8\\x0e\\x0f{\\xb76\\xb6q\\xcb\\xf3\\x07;\\xb3\\xf5Me\\xc8'}"
      ]
     },
     "execution_count": 9,
     "metadata": {},
     "output_type": "execute_result"
    }
   ],
   "source": [
    "load_wallet(uname)"
   ]
  },
  {
   "cell_type": "code",
   "execution_count": 10,
   "id": "7a2ed08b-1429-413a-ab69-455978f4cfcd",
   "metadata": {},
   "outputs": [],
   "source": [
    "def fund_account(sender_username: str, amount: int):\n",
    "    try:\n",
    "        amount = int(1000000000 * amount)\n",
    "        account = load_wallet(sender_username)\n",
    "        \n",
    "        resp = solana_client.request_airdrop(\n",
    "            account['public_key'], amount\n",
    "        )\n",
    "        print(resp)    \n",
    "\n",
    "        transaction_id = resp['result']\n",
    "        if transaction_id != None:\n",
    "            return transaction_id\n",
    "        else:\n",
    "            return None\n",
    "\n",
    "    except Exception as e:\n",
    "        print('error:', e)\n",
    "        return None\n"
   ]
  },
  {
   "cell_type": "code",
   "execution_count": 11,
   "id": "eef2220d-aa44-462b-a442-b39823938086",
   "metadata": {},
   "outputs": [
    {
     "name": "stdout",
     "output_type": "stream",
     "text": [
      "{'jsonrpc': '2.0', 'result': '4eAfrxoEhfGJkgJHV5WviE6gV8TensJHnHJNZUYRoK71qGfjwFT3d6aCi55o3VFizuTnDh8fPKB5rzCWiN761fJC', 'id': 1}\n",
      "{'jsonrpc': '2.0', 'result': '4D2wPm7goDPQo9mZD2hU5FLvkjcW1GPcUJmrVafDVFs2ixpFTofBXFu9thsENHuF5XXurccj35TgvS6iWcWqvTtf', 'id': 2}\n",
      "{'jsonrpc': '2.0', 'result': '2zjc8XAXpH7v6H6Lunti2mrrs3h4xuSLPA5WuZij5NiRhhmYUQKTEmShKrGtojUkZu5JYwpPNVWRFBuNc3ti4JHc', 'id': 3}\n",
      "{'jsonrpc': '2.0', 'result': '5nr9duUyyuSaiuCojzGH8D8Gup9PE4xCraqSNX7JdkKmodKqRjvpHfcjhxoHguXiT8W5DJppik8PEQxr4VjgjUoE', 'id': 4}\n",
      "{'jsonrpc': '2.0', 'result': '5yaCdNfiWoCe9SBAbFV1SeNjKns5AWbR4L3c1fmar7KPGT6PMjdAphaYkXhN4z4BC56BA6vbs1r1f12SSWdaxDBo', 'id': 5}\n"
     ]
    }
   ],
   "source": [
    "for i in range(5):\n",
    "    fund_account(uname, 1)\n",
    "    time.sleep(10) # Need to wait otherwise it'll error out"
   ]
  },
  {
   "cell_type": "code",
   "execution_count": 12,
   "id": "86c86ddf-9732-4f4c-afa2-93351da3f630",
   "metadata": {},
   "outputs": [],
   "source": [
    "def get_balance(sender_username: str):\n",
    "    try:\n",
    "        account = load_wallet(sender_username)\n",
    "        resp = solana_client.get_balance(account['public_key'])\n",
    "        pp(resp)\n",
    "        balance = resp['result']['value'] / 1000000000\n",
    "        data = {\n",
    "            \"publicKey\": account['public_key'],\n",
    "            \"balance\": str(balance),\n",
    "        }\n",
    "        return data\n",
    "    except Exception as e:\n",
    "        print('error:', e)\n",
    "        return None"
   ]
  },
  {
   "cell_type": "code",
   "execution_count": 13,
   "id": "52755fc2-3a85-44fc-803e-aa6239169813",
   "metadata": {},
   "outputs": [
    {
     "name": "stdout",
     "output_type": "stream",
     "text": [
      "{\n",
      "  \"jsonrpc\": \"2.0\",\n",
      "  \"result\": {\n",
      "    \"context\": {\n",
      "      \"slot\": 123651066\n",
      "    },\n",
      "    \"value\": 4000000000\n",
      "  },\n",
      "  \"id\": 6\n",
      "}\n"
     ]
    }
   ],
   "source": [
    "r = get_balance(uname)"
   ]
  },
  {
   "cell_type": "code",
   "execution_count": 14,
   "id": "2343e887-436e-4075-af0a-81889269d71c",
   "metadata": {},
   "outputs": [
    {
     "name": "stdout",
     "output_type": "stream",
     "text": [
      "{\n",
      "  \"publicKey\": \"CAPX9Yz7qiKc6Mka92fT3tV3wF5tNKHCeThGCYJ8FHTd\",\n",
      "  \"balance\": \"4.0\"\n",
      "}\n"
     ]
    }
   ],
   "source": [
    "pp(r)"
   ]
  },
  {
   "cell_type": "code",
   "execution_count": 15,
   "id": "2ace7321-d597-4869-b55a-c0965894f088",
   "metadata": {},
   "outputs": [],
   "source": [
    "def send_sol(sender_username, amount, receiver):\n",
    "    try:\n",
    "        account = load_wallet(sender_username)\n",
    "        sender = Keypair.from_secret_key(account['secret_key'])\n",
    "        amount = int(1000000000 * amount)\n",
    "\n",
    "        txn = Transaction().add(\n",
    "            transfer(\n",
    "                TransferParams(\n",
    "                    from_pubkey=sender.public_key, \n",
    "                    to_pubkey=PublicKey(receiver), \n",
    "                    lamports=amount\n",
    "                )\n",
    "            )\n",
    "        )\n",
    "        resp = solana_client.send_transaction(txn, sender)\n",
    "        pp(resp)\n",
    "\n",
    "        transaction_id = resp['result']\n",
    "        if transaction_id != None:\n",
    "            return transaction_id\n",
    "        else:\n",
    "            return None\n",
    "\n",
    "    except Exception as e:\n",
    "        print('error:', e)\n",
    "        return None"
   ]
  },
  {
   "cell_type": "code",
   "execution_count": 16,
   "id": "3b98b373-9d91-4297-b9f5-3706ea2edbdd",
   "metadata": {},
   "outputs": [],
   "source": [
    "uname2 = 'testuser2'"
   ]
  },
  {
   "cell_type": "code",
   "execution_count": 17,
   "id": "3ba7e477-916c-4d14-bc38-ea9466c54d45",
   "metadata": {},
   "outputs": [
    {
     "data": {
      "text/plain": [
       "'BiTanY66aBrFQSG9dNVZtJj8ssmacNRVZuRLyTyZyWam'"
      ]
     },
     "execution_count": 17,
     "metadata": {},
     "output_type": "execute_result"
    }
   ],
   "source": [
    "create_account(uname2)"
   ]
  },
  {
   "cell_type": "code",
   "execution_count": 18,
   "id": "8d320b71-365a-4ded-8e2e-c9bfb40e87e6",
   "metadata": {},
   "outputs": [],
   "source": [
    "account2 = load_wallet(uname2)"
   ]
  },
  {
   "cell_type": "code",
   "execution_count": 19,
   "id": "a55dd5f4-a36d-4bfc-9320-22bfa97add76",
   "metadata": {},
   "outputs": [
    {
     "name": "stdout",
     "output_type": "stream",
     "text": [
      "{\n",
      "  \"jsonrpc\": \"2.0\",\n",
      "  \"result\": \"5DuiocHAQFnA3NbmEh6EiBtHiwakB4vkrPp33N2rWpBcCz5LkmCHSZbv133rjC6C1jHr8rhi1g3eiydNRR9JP27D\",\n",
      "  \"id\": 8\n",
      "}\n"
     ]
    },
    {
     "data": {
      "text/plain": [
       "'5DuiocHAQFnA3NbmEh6EiBtHiwakB4vkrPp33N2rWpBcCz5LkmCHSZbv133rjC6C1jHr8rhi1g3eiydNRR9JP27D'"
      ]
     },
     "execution_count": 19,
     "metadata": {},
     "output_type": "execute_result"
    }
   ],
   "source": [
    "send_sol(uname, 1, account2['public_key'])"
   ]
  },
  {
   "cell_type": "code",
   "execution_count": 21,
   "id": "9d537cc1-4bd3-4b6e-86ee-1516c0e4de42",
   "metadata": {},
   "outputs": [],
   "source": [
    "txsig = solana_client.get_transaction(tx_sig='5DuiocHAQFnA3NbmEh6EiBtHiwakB4vkrPp33N2rWpBcCz5LkmCHSZbv133rjC6C1jHr8rhi1g3eiydNRR9JP27D')"
   ]
  },
  {
   "cell_type": "code",
   "execution_count": 22,
   "id": "d3587d57-4fe7-42e3-9a8a-d4a30f5fcd22",
   "metadata": {},
   "outputs": [
    {
     "name": "stdout",
     "output_type": "stream",
     "text": [
      "{\n",
      "  \"jsonrpc\": \"2.0\",\n",
      "  \"result\": {\n",
      "    \"blockTime\": 1648293211,\n",
      "    \"meta\": {\n",
      "      \"err\": null,\n",
      "      \"fee\": 5000,\n",
      "      \"innerInstructions\": [],\n",
      "      \"logMessages\": [\n",
      "        \"Program 11111111111111111111111111111111 invoke [1]\",\n",
      "        \"Program 11111111111111111111111111111111 success\"\n",
      "      ],\n",
      "      \"postBalances\": [\n",
      "        3999995000,\n",
      "        1000000000,\n",
      "        1\n",
      "      ],\n",
      "      \"postTokenBalances\": [],\n",
      "      \"preBalances\": [\n",
      "        5000000000,\n",
      "        0,\n",
      "        1\n",
      "      ],\n",
      "      \"preTokenBalances\": [],\n",
      "      \"rewards\": [],\n",
      "      \"status\": {\n",
      "        \"Ok\": null\n",
      "      }\n",
      "    },\n",
      "    \"slot\": 123651130,\n",
      "    \"transaction\": {\n",
      "      \"message\": {\n",
      "        \"accountKeys\": [\n",
      "          \"CAPX9Yz7qiKc6Mka92fT3tV3wF5tNKHCeThGCYJ8FHTd\",\n",
      "          \"BiTanY66aBrFQSG9dNVZtJj8ssmacNRVZuRLyTyZyWam\",\n",
      "          \"11111111111111111111111111111111\"\n",
      "        ],\n",
      "        \"header\": {\n",
      "          \"numReadonlySignedAccounts\": 0,\n",
      "          \"numReadonlyUnsignedAccounts\": 1,\n",
      "          \"numRequiredSignatures\": 1\n",
      "        },\n",
      "        \"instructions\": [\n",
      "          {\n",
      "            \"accounts\": [\n",
      "              0,\n",
      "              1\n",
      "            ],\n",
      "            \"data\": \"3Bxs3zzLZLuLQEYX\",\n",
      "            \"programIdIndex\": 2\n",
      "          }\n",
      "        ],\n",
      "        \"recentBlockhash\": \"4AoSV1c9toEwdjw7ULXFSxtTJChdb215r7MCzDVzpoLT\"\n",
      "      },\n",
      "      \"signatures\": [\n",
      "        \"5DuiocHAQFnA3NbmEh6EiBtHiwakB4vkrPp33N2rWpBcCz5LkmCHSZbv133rjC6C1jHr8rhi1g3eiydNRR9JP27D\"\n",
      "      ]\n",
      "    }\n",
      "  },\n",
      "  \"id\": 10\n",
      "}\n"
     ]
    }
   ],
   "source": [
    "pp(txsig)"
   ]
  },
  {
   "cell_type": "markdown",
   "id": "183d79db-649f-4ebe-9df6-681df6e50afb",
   "metadata": {},
   "source": [
    "Easy to view this transaction on Solana at this URL:\n",
    "\n",
    "https://explorer.solana.com/tx/5DuiocHAQFnA3NbmEh6EiBtHiwakB4vkrPp33N2rWpBcCz5LkmCHSZbv133rjC6C1jHr8rhi1g3eiydNRR9JP27D?cluster=devnet"
   ]
  },
  {
   "cell_type": "markdown",
   "id": "9febf007-d641-40e8-a7d0-fe2bce0ae7de",
   "metadata": {},
   "source": [
    "# End"
   ]
  }
 ],
 "metadata": {
  "kernelspec": {
   "display_name": "Python 3 (ipykernel)",
   "language": "python",
   "name": "python3"
  },
  "language_info": {
   "codemirror_mode": {
    "name": "ipython",
    "version": 3
   },
   "file_extension": ".py",
   "mimetype": "text/x-python",
   "name": "python",
   "nbconvert_exporter": "python",
   "pygments_lexer": "ipython3",
   "version": "3.9.10"
  }
 },
 "nbformat": 4,
 "nbformat_minor": 5
}
