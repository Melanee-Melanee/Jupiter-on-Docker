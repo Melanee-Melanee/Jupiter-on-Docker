{
 "cells": [
  {
   "cell_type": "markdown",
   "metadata": {},
   "source": [
    "# Loading the relevant libraries"
   ]
  },
  {
   "cell_type": "code",
   "execution_count": 1,
   "metadata": {
    "collapsed": false
   },
   "outputs": [],
   "source": [
    "import us\n",
    "import pandas as pd\n",
    "import numpy as np\n",
    "from itertools import chain\n",
    "from sklearn.cluster import KMeans\n",
    "from sklearn.model_selection import train_test_split\n",
    "from matplotlib import pyplot as plt\n",
    "%matplotlib inline"
   ]
  },
  {
   "cell_type": "markdown",
   "metadata": {},
   "source": [
    "## Let's choose some number of observations (500) and simulate some data"
   ]
  },
  {
   "cell_type": "code",
   "execution_count": 2,
   "metadata": {
    "collapsed": true
   },
   "outputs": [],
   "source": [
    "n = 500"
   ]
  },
  {
   "cell_type": "code",
   "execution_count": 3,
   "metadata": {
    "collapsed": false
   },
   "outputs": [],
   "source": [
    "# Arbitrarily defining 10 tags\n",
    "tags = [ \"Tag %i\" % j for j in range(10)]\n",
    "\n",
    "# Getting a list of states for the example\n",
    "statelist = [j.name for j in us.states.STATES]\n",
    "x1 = np.random.choice(statelist, n)\n",
    "x2 = np.zeros(n)\n",
    "\n",
    "# Sampling from states for categories\n",
    "for i, state in enumerate(statelist):\n",
    "    # Note for the second \"x\" we are sampling them all from the same gaussian\n",
    "    x2[x1==state] =  np.random.normal( np.sum(x1==state) )  * (i/10.)\n",
    "\n",
    "# Randomly sampling the number of tags and elements in list of tags\n",
    "x3 = pd.Series(np.zeros(n), name='x3', dtype='O')\n",
    "for i in range(n):\n",
    "    k = np.random.choice(np.arange(len(tags)))\n",
    "    x3.ix[i] = ','.join(np.random.choice(tags, k))\n",
    "\n",
    "# Getting the unique tags\n",
    "tags = sorted(set(list(chain(*[ j.split(\",\") for j in x3.unique()]))) )\n",
    "\n",
    "# Creating a temporary dataframe for tracking the tags\n",
    "x3tmp = pd.DataFrame(np.zeros([n, len(tags)]), columns= tags)\n",
    "for i, rowtags in enumerate(x3):\n",
    "    for tag in rowtags.split(\",\"):\n",
    "        # If a tag is found, populate the row and tag with 1\n",
    "        if x3tmp.ix[i, tag]==0 :\n",
    "            x3tmp.ix[i, tag] = 1"
   ]
  },
  {
   "cell_type": "markdown",
   "metadata": {},
   "source": [
    "# Here's what our simulated data looks like"
   ]
  },
  {
   "cell_type": "code",
   "execution_count": 4,
   "metadata": {
    "collapsed": false
   },
   "outputs": [
    {
     "data": {
      "text/html": [
       "<div>\n",
       "<table border=\"1\" class=\"dataframe\">\n",
       "  <thead>\n",
       "    <tr style=\"text-align: right;\">\n",
       "      <th></th>\n",
       "      <th>State</th>\n",
       "      <th>Hourly_Wage</th>\n",
       "      <th>Tags</th>\n",
       "    </tr>\n",
       "  </thead>\n",
       "  <tbody>\n",
       "    <tr>\n",
       "      <th>0</th>\n",
       "      <td>Illinois</td>\n",
       "      <td>16.658666</td>\n",
       "      <td>Tag 8,Tag 2,Tag 2,Tag 8,Tag 0,Tag 3,Tag 5,Tag ...</td>\n",
       "    </tr>\n",
       "    <tr>\n",
       "      <th>1</th>\n",
       "      <td>Florida</td>\n",
       "      <td>7.934306</td>\n",
       "      <td>Tag 9,Tag 0,Tag 8,Tag 3</td>\n",
       "    </tr>\n",
       "    <tr>\n",
       "      <th>2</th>\n",
       "      <td>Texas</td>\n",
       "      <td>55.154027</td>\n",
       "      <td>Tag 8,Tag 2,Tag 5,Tag 3</td>\n",
       "    </tr>\n",
       "    <tr>\n",
       "      <th>3</th>\n",
       "      <td>Tennessee</td>\n",
       "      <td>30.900414</td>\n",
       "      <td>Tag 8,Tag 9,Tag 0,Tag 0,Tag 7,Tag 0,Tag 3</td>\n",
       "    </tr>\n",
       "    <tr>\n",
       "      <th>4</th>\n",
       "      <td>Wisconsin</td>\n",
       "      <td>54.594134</td>\n",
       "      <td>Tag 9,Tag 9,Tag 9,Tag 8,Tag 1,Tag 2,Tag 5,Tag 5</td>\n",
       "    </tr>\n",
       "  </tbody>\n",
       "</table>\n",
       "</div>"
      ],
      "text/plain": [
       "       State  Hourly_Wage                                               Tags\n",
       "0   Illinois    16.658666  Tag 8,Tag 2,Tag 2,Tag 8,Tag 0,Tag 3,Tag 5,Tag ...\n",
       "1    Florida     7.934306                            Tag 9,Tag 0,Tag 8,Tag 3\n",
       "2      Texas    55.154027                            Tag 8,Tag 2,Tag 5,Tag 3\n",
       "3  Tennessee    30.900414          Tag 8,Tag 9,Tag 0,Tag 0,Tag 7,Tag 0,Tag 3\n",
       "4  Wisconsin    54.594134    Tag 9,Tag 9,Tag 9,Tag 8,Tag 1,Tag 2,Tag 5,Tag 5"
      ]
     },
     "execution_count": 4,
     "metadata": {},
     "output_type": "execute_result"
    }
   ],
   "source": [
    "pd.concat([pd.Series(x1, name='State'), \n",
    "           pd.Series(x2, name='Hourly_Wage'), \n",
    "           pd.Series(x3, name='Tags')], axis=1).head()"
   ]
  },
  {
   "cell_type": "markdown",
   "metadata": {},
   "source": [
    "# Converting our data into numbers for mathy stuff"
   ]
  },
  {
   "cell_type": "code",
   "execution_count": 5,
   "metadata": {
    "collapsed": true
   },
   "outputs": [],
   "source": [
    "# Building matrix for K-means\n",
    "X = pd.concat([pd.get_dummies(pd.Series(x1), sparse=True),\n",
    "               pd.Series(x2, name='x2'),\n",
    "               x3tmp],\n",
    "              axis=1)\n",
    "X_train, X_test = train_test_split(X, test_size=0.50, random_state=420)"
   ]
  },
  {
   "cell_type": "markdown",
   "metadata": {},
   "source": [
    "# Running K-means and evaluating the clusters on test data"
   ]
  },
  {
   "cell_type": "code",
   "execution_count": 6,
   "metadata": {
    "collapsed": false
   },
   "outputs": [],
   "source": [
    "# Let's evaluate the loss function on the test data\n",
    "loss = []\n",
    "for k in range(1, X_train.shape[0]):\n",
    "    kmeans = KMeans(n_clusters=k, random_state=0).fit(X_train)\n",
    "    loss.append(kmeans.score(X_test))"
   ]
  },
  {
   "cell_type": "markdown",
   "metadata": {},
   "source": [
    "# How many clusters should we choose?"
   ]
  },
  {
   "cell_type": "code",
   "execution_count": 8,
   "metadata": {
    "collapsed": false
   },
   "outputs": [
    {
     "name": "stdout",
     "output_type": "stream",
     "text": [
      "There should be 24 clusters\n"
     ]
    }
   ],
   "source": [
    "for i, (x,y) in enumerate(zip(loss, loss[1:] )):\n",
    "    if (y-x) <= 0:\n",
    "        clusterval = i+1\n",
    "        print(\"There should be %i clusters\" % clusterval )\n",
    "        break"
   ]
  },
  {
   "cell_type": "markdown",
   "metadata": {},
   "source": [
    "# Plotting the loss function to verify using $X_{t}$-$X_{t-1}$ is a good idea"
   ]
  },
  {
   "cell_type": "code",
   "execution_count": 9,
   "metadata": {
    "collapsed": false
   },
   "outputs": [
    {
     "data": {
      "image/png": "[encoded data removed]",
      "text/plain": [
       "<matplotlib.figure.Figure at 0x1074b1dd0>"
      ]
     },
     "metadata": {},
     "output_type": "display_data"
    }
   ],
   "source": [
    "plt.figure(figsize=(12, 8))\n",
    "plt.plot(np.arange(len(loss)), loss, c='red', label='loss')\n",
    "plt.axvline(clusterval, color='k', linestyle='solid')\n",
    "plt.title(\"Optimal Number of Clusters (%i) Using Change in Loss from additional cluster\" % clusterval)\n",
    "plt.ylabel(\"Loss of K-Means\")\n",
    "plt.xlabel(\"Number of Clusters in K-Means\")\n",
    "plt.grid()\n",
    "plt.legend()\n",
    "plt.show()"
   ]
  }
 ],
 "metadata": {
  "kernelspec": {
   "display_name": "Python 2",
   "language": "python",
   "name": "python2"
  },
  "language_info": {
   "codemirror_mode": {
    "name": "ipython",
    "version": 2
   },
   "file_extension": ".py",
   "mimetype": "text/x-python",
   "name": "python",
   "nbconvert_exporter": "python",
   "pygments_lexer": "ipython2",
   "version": "2.7.12"
  }
 },
 "nbformat": 4,
 "nbformat_minor": 0
}
